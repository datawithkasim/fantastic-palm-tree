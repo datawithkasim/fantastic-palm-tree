{
 "cells": [
  {
   "cell_type": "code",
   "id": "initial_id",
   "metadata": {
    "collapsed": true,
    "ExecuteTime": {
     "end_time": "2024-12-03T22:25:21.607337Z",
     "start_time": "2024-12-03T22:25:20.324299Z"
    }
   },
   "source": [
    "import matplotlib.pyplot as plt\n",
    "import pandas as pd\n",
    "import kagglehub\n",
    "import os\n",
    "import shutil\n",
    "import seaborn as sns\n",
    "\n",
    "from sklearn.preprocessing import LabelEncoder #for one hot encoding"
   ],
   "outputs": [],
   "execution_count": 4
  },
  {
   "metadata": {
    "ExecuteTime": {
     "end_time": "2024-12-02T22:20:45.778056900Z",
     "start_time": "2024-11-28T22:11:46.108809Z"
    }
   },
   "cell_type": "code",
   "source": "kagglehub.login()",
   "id": "4a01fdb7fe687279",
   "outputs": [
    {
     "data": {
      "text/plain": [
       "VBox(children=(HTML(value='<center> <img\\nsrc=https://www.kaggle.com/static/images/site-logo.png\\nalt=\\'Kaggle…"
      ],
      "application/vnd.jupyter.widget-view+json": {
       "version_major": 2,
       "version_minor": 0,
       "model_id": "d030bf75fc3541d7b060f117ce4e8773"
      }
     },
     "metadata": {},
     "output_type": "display_data"
    }
   ],
   "execution_count": 2
  },
  {
   "metadata": {
    "ExecuteTime": {
     "end_time": "2024-12-02T22:20:45.780189500Z",
     "start_time": "2024-11-28T22:11:56.561979Z"
    }
   },
   "cell_type": "code",
   "source": [
    "# Download the latest version\n",
    "path = kagglehub.dataset_download(\"mehmettahiraslan/customer-shopping-dataset\")\n",
    "\n",
    "# Define source and destination paths\n",
    "source = \"C:/Users/muham/.cache/kagglehub/datasets/mehmettahiraslan/customer-shopping-dataset/versions/2\"\n",
    "destination = \"C:/Users/muham/Desktop/repo/ml_tutorial/fantastic-palm-tree/datasets/\"\n",
    "\n",
    "# Ensure the destination directory exists\n",
    "os.makedirs(destination, exist_ok=True)\n",
    "\n",
    "# Move the downloaded files to your specific folder\n",
    "shutil.move(source, destination)\n",
    "\n",
    "print(f\"Dataset moved to {destination}\")"
   ],
   "id": "cb5415e78804f1ac",
   "outputs": [
    {
     "ename": "Error",
     "evalue": "Destination path 'C:/Users/muham/Desktop/repo/ml_tutorial/fantastic-palm-tree/datasets/2' already exists",
     "output_type": "error",
     "traceback": [
      "\u001B[1;31m---------------------------------------------------------------------------\u001B[0m",
      "\u001B[1;31mError\u001B[0m                                     Traceback (most recent call last)",
      "Cell \u001B[1;32mIn[4], line 12\u001B[0m\n\u001B[0;32m      9\u001B[0m os\u001B[38;5;241m.\u001B[39mmakedirs(destination, exist_ok\u001B[38;5;241m=\u001B[39m\u001B[38;5;28;01mTrue\u001B[39;00m)\n\u001B[0;32m     11\u001B[0m \u001B[38;5;66;03m# Move the downloaded files to your specific folder\u001B[39;00m\n\u001B[1;32m---> 12\u001B[0m \u001B[43mshutil\u001B[49m\u001B[38;5;241;43m.\u001B[39;49m\u001B[43mmove\u001B[49m\u001B[43m(\u001B[49m\u001B[43msource\u001B[49m\u001B[43m,\u001B[49m\u001B[43m \u001B[49m\u001B[43mdestination\u001B[49m\u001B[43m)\u001B[49m\n\u001B[0;32m     14\u001B[0m \u001B[38;5;28mprint\u001B[39m(\u001B[38;5;124mf\u001B[39m\u001B[38;5;124m\"\u001B[39m\u001B[38;5;124mDataset moved to \u001B[39m\u001B[38;5;132;01m{\u001B[39;00mdestination\u001B[38;5;132;01m}\u001B[39;00m\u001B[38;5;124m\"\u001B[39m)\n",
      "File \u001B[1;32m~\\anaconda3\\envs\\customer_insights_dashboard\\Lib\\shutil.py:851\u001B[0m, in \u001B[0;36mmove\u001B[1;34m(src, dst, copy_function)\u001B[0m\n\u001B[0;32m    848\u001B[0m     real_dst \u001B[38;5;241m=\u001B[39m os\u001B[38;5;241m.\u001B[39mpath\u001B[38;5;241m.\u001B[39mjoin(dst, _basename(src))\n\u001B[0;32m    850\u001B[0m     \u001B[38;5;28;01mif\u001B[39;00m os\u001B[38;5;241m.\u001B[39mpath\u001B[38;5;241m.\u001B[39mexists(real_dst):\n\u001B[1;32m--> 851\u001B[0m         \u001B[38;5;28;01mraise\u001B[39;00m Error(\u001B[38;5;124m\"\u001B[39m\u001B[38;5;124mDestination path \u001B[39m\u001B[38;5;124m'\u001B[39m\u001B[38;5;132;01m%s\u001B[39;00m\u001B[38;5;124m'\u001B[39m\u001B[38;5;124m already exists\u001B[39m\u001B[38;5;124m\"\u001B[39m \u001B[38;5;241m%\u001B[39m real_dst)\n\u001B[0;32m    852\u001B[0m \u001B[38;5;28;01mtry\u001B[39;00m:\n\u001B[0;32m    853\u001B[0m     os\u001B[38;5;241m.\u001B[39mrename(src, real_dst)\n",
      "\u001B[1;31mError\u001B[0m: Destination path 'C:/Users/muham/Desktop/repo/ml_tutorial/fantastic-palm-tree/datasets/2' already exists"
     ]
    }
   ],
   "execution_count": 4
  },
  {
   "metadata": {
    "ExecuteTime": {
     "end_time": "2024-12-03T22:25:25.376562Z",
     "start_time": "2024-12-03T22:25:25.085451Z"
    }
   },
   "cell_type": "code",
   "source": [
    "data = pd.read_csv('datasets/2/customer_shopping_data.csv')\n",
    "data"
   ],
   "id": "c77e145bf943c7f3",
   "outputs": [
    {
     "data": {
      "text/plain": [
       "      invoice_no customer_id  gender  age         category  quantity    price  \\\n",
       "0        I138884     C241288  Female   28         Clothing         5  1500.40   \n",
       "1        I317333     C111565    Male   21            Shoes         3  1800.51   \n",
       "2        I127801     C266599    Male   20         Clothing         1   300.08   \n",
       "3        I173702     C988172  Female   66            Shoes         5  3000.85   \n",
       "4        I337046     C189076  Female   53            Books         4    60.60   \n",
       "...          ...         ...     ...  ...              ...       ...      ...   \n",
       "99452    I219422     C441542  Female   45         Souvenir         5    58.65   \n",
       "99453    I325143     C569580    Male   27  Food & Beverage         2    10.46   \n",
       "99454    I824010     C103292    Male   63  Food & Beverage         2    10.46   \n",
       "99455    I702964     C800631    Male   56       Technology         4  4200.00   \n",
       "99456    I232867     C273973  Female   36         Souvenir         3    35.19   \n",
       "\n",
       "      payment_method invoice_date     shopping_mall  \n",
       "0        Credit Card     5/8/2022            Kanyon  \n",
       "1         Debit Card   12/12/2021    Forum Istanbul  \n",
       "2               Cash    9/11/2021         Metrocity  \n",
       "3        Credit Card   16/05/2021      Metropol AVM  \n",
       "4               Cash   24/10/2021            Kanyon  \n",
       "...              ...          ...               ...  \n",
       "99452    Credit Card   21/09/2022            Kanyon  \n",
       "99453           Cash   22/09/2021    Forum Istanbul  \n",
       "99454     Debit Card   28/03/2021         Metrocity  \n",
       "99455           Cash   16/03/2021      Istinye Park  \n",
       "99456    Credit Card   15/10/2022  Mall of Istanbul  \n",
       "\n",
       "[99457 rows x 10 columns]"
      ],
      "text/html": [
       "<div>\n",
       "<style scoped>\n",
       "    .dataframe tbody tr th:only-of-type {\n",
       "        vertical-align: middle;\n",
       "    }\n",
       "\n",
       "    .dataframe tbody tr th {\n",
       "        vertical-align: top;\n",
       "    }\n",
       "\n",
       "    .dataframe thead th {\n",
       "        text-align: right;\n",
       "    }\n",
       "</style>\n",
       "<table border=\"1\" class=\"dataframe\">\n",
       "  <thead>\n",
       "    <tr style=\"text-align: right;\">\n",
       "      <th></th>\n",
       "      <th>invoice_no</th>\n",
       "      <th>customer_id</th>\n",
       "      <th>gender</th>\n",
       "      <th>age</th>\n",
       "      <th>category</th>\n",
       "      <th>quantity</th>\n",
       "      <th>price</th>\n",
       "      <th>payment_method</th>\n",
       "      <th>invoice_date</th>\n",
       "      <th>shopping_mall</th>\n",
       "    </tr>\n",
       "  </thead>\n",
       "  <tbody>\n",
       "    <tr>\n",
       "      <th>0</th>\n",
       "      <td>I138884</td>\n",
       "      <td>C241288</td>\n",
       "      <td>Female</td>\n",
       "      <td>28</td>\n",
       "      <td>Clothing</td>\n",
       "      <td>5</td>\n",
       "      <td>1500.40</td>\n",
       "      <td>Credit Card</td>\n",
       "      <td>5/8/2022</td>\n",
       "      <td>Kanyon</td>\n",
       "    </tr>\n",
       "    <tr>\n",
       "      <th>1</th>\n",
       "      <td>I317333</td>\n",
       "      <td>C111565</td>\n",
       "      <td>Male</td>\n",
       "      <td>21</td>\n",
       "      <td>Shoes</td>\n",
       "      <td>3</td>\n",
       "      <td>1800.51</td>\n",
       "      <td>Debit Card</td>\n",
       "      <td>12/12/2021</td>\n",
       "      <td>Forum Istanbul</td>\n",
       "    </tr>\n",
       "    <tr>\n",
       "      <th>2</th>\n",
       "      <td>I127801</td>\n",
       "      <td>C266599</td>\n",
       "      <td>Male</td>\n",
       "      <td>20</td>\n",
       "      <td>Clothing</td>\n",
       "      <td>1</td>\n",
       "      <td>300.08</td>\n",
       "      <td>Cash</td>\n",
       "      <td>9/11/2021</td>\n",
       "      <td>Metrocity</td>\n",
       "    </tr>\n",
       "    <tr>\n",
       "      <th>3</th>\n",
       "      <td>I173702</td>\n",
       "      <td>C988172</td>\n",
       "      <td>Female</td>\n",
       "      <td>66</td>\n",
       "      <td>Shoes</td>\n",
       "      <td>5</td>\n",
       "      <td>3000.85</td>\n",
       "      <td>Credit Card</td>\n",
       "      <td>16/05/2021</td>\n",
       "      <td>Metropol AVM</td>\n",
       "    </tr>\n",
       "    <tr>\n",
       "      <th>4</th>\n",
       "      <td>I337046</td>\n",
       "      <td>C189076</td>\n",
       "      <td>Female</td>\n",
       "      <td>53</td>\n",
       "      <td>Books</td>\n",
       "      <td>4</td>\n",
       "      <td>60.60</td>\n",
       "      <td>Cash</td>\n",
       "      <td>24/10/2021</td>\n",
       "      <td>Kanyon</td>\n",
       "    </tr>\n",
       "    <tr>\n",
       "      <th>...</th>\n",
       "      <td>...</td>\n",
       "      <td>...</td>\n",
       "      <td>...</td>\n",
       "      <td>...</td>\n",
       "      <td>...</td>\n",
       "      <td>...</td>\n",
       "      <td>...</td>\n",
       "      <td>...</td>\n",
       "      <td>...</td>\n",
       "      <td>...</td>\n",
       "    </tr>\n",
       "    <tr>\n",
       "      <th>99452</th>\n",
       "      <td>I219422</td>\n",
       "      <td>C441542</td>\n",
       "      <td>Female</td>\n",
       "      <td>45</td>\n",
       "      <td>Souvenir</td>\n",
       "      <td>5</td>\n",
       "      <td>58.65</td>\n",
       "      <td>Credit Card</td>\n",
       "      <td>21/09/2022</td>\n",
       "      <td>Kanyon</td>\n",
       "    </tr>\n",
       "    <tr>\n",
       "      <th>99453</th>\n",
       "      <td>I325143</td>\n",
       "      <td>C569580</td>\n",
       "      <td>Male</td>\n",
       "      <td>27</td>\n",
       "      <td>Food &amp; Beverage</td>\n",
       "      <td>2</td>\n",
       "      <td>10.46</td>\n",
       "      <td>Cash</td>\n",
       "      <td>22/09/2021</td>\n",
       "      <td>Forum Istanbul</td>\n",
       "    </tr>\n",
       "    <tr>\n",
       "      <th>99454</th>\n",
       "      <td>I824010</td>\n",
       "      <td>C103292</td>\n",
       "      <td>Male</td>\n",
       "      <td>63</td>\n",
       "      <td>Food &amp; Beverage</td>\n",
       "      <td>2</td>\n",
       "      <td>10.46</td>\n",
       "      <td>Debit Card</td>\n",
       "      <td>28/03/2021</td>\n",
       "      <td>Metrocity</td>\n",
       "    </tr>\n",
       "    <tr>\n",
       "      <th>99455</th>\n",
       "      <td>I702964</td>\n",
       "      <td>C800631</td>\n",
       "      <td>Male</td>\n",
       "      <td>56</td>\n",
       "      <td>Technology</td>\n",
       "      <td>4</td>\n",
       "      <td>4200.00</td>\n",
       "      <td>Cash</td>\n",
       "      <td>16/03/2021</td>\n",
       "      <td>Istinye Park</td>\n",
       "    </tr>\n",
       "    <tr>\n",
       "      <th>99456</th>\n",
       "      <td>I232867</td>\n",
       "      <td>C273973</td>\n",
       "      <td>Female</td>\n",
       "      <td>36</td>\n",
       "      <td>Souvenir</td>\n",
       "      <td>3</td>\n",
       "      <td>35.19</td>\n",
       "      <td>Credit Card</td>\n",
       "      <td>15/10/2022</td>\n",
       "      <td>Mall of Istanbul</td>\n",
       "    </tr>\n",
       "  </tbody>\n",
       "</table>\n",
       "<p>99457 rows × 10 columns</p>\n",
       "</div>"
      ]
     },
     "execution_count": 5,
     "metadata": {},
     "output_type": "execute_result"
    }
   ],
   "execution_count": 5
  },
  {
   "metadata": {},
   "cell_type": "markdown",
   "source": [
    "### Welcome to the Shopping World of Istanbul!\n",
    "\n",
    "This dataset offers a glimpse into the vibrant shopping scene of Istanbul, compiled from 10 prominent shopping malls spanning the years 2021 to 2023. Designed to provide a rich perspective on shopping habits, it captures data from diverse age groups and genders. \n",
    "\n",
    "The dataset includes key attributes such as:\n",
    "- **Invoice Numbers** and **Customer IDs** for transaction tracking,\n",
    "- **Age** and **Gender** demographics,\n",
    "- **Payment Methods** and **Product Categories** for analyzing purchasing preferences,\n",
    "- **Quantity**, **Price**, and **Order Dates** for transactional details,\n",
    "- **Shopping Mall Locations** to add a geographic dimension to the analysis.\n"
   ],
   "id": "fc157b9106cc1856"
  },
  {
   "metadata": {},
   "cell_type": "markdown",
   "source": [
    "### E.D.A\n",
    "**Steps**\n",
    "- Take a look at the shape, distribution, datatypes with df. \n",
    "- Find some general trends and interesting points of investigation.\n",
    "- Visualise some of these general trends."
   ],
   "id": "5f07e08bd6f91201"
  },
  {
   "metadata": {
    "ExecuteTime": {
     "end_time": "2024-12-03T22:25:26.873108Z",
     "start_time": "2024-12-03T22:25:26.856155Z"
    }
   },
   "cell_type": "code",
   "source": "data.head()",
   "id": "e6fb477186fc634c",
   "outputs": [
    {
     "data": {
      "text/plain": [
       "  invoice_no customer_id  gender  age  category  quantity    price  \\\n",
       "0    I138884     C241288  Female   28  Clothing         5  1500.40   \n",
       "1    I317333     C111565    Male   21     Shoes         3  1800.51   \n",
       "2    I127801     C266599    Male   20  Clothing         1   300.08   \n",
       "3    I173702     C988172  Female   66     Shoes         5  3000.85   \n",
       "4    I337046     C189076  Female   53     Books         4    60.60   \n",
       "\n",
       "  payment_method invoice_date   shopping_mall  \n",
       "0    Credit Card     5/8/2022          Kanyon  \n",
       "1     Debit Card   12/12/2021  Forum Istanbul  \n",
       "2           Cash    9/11/2021       Metrocity  \n",
       "3    Credit Card   16/05/2021    Metropol AVM  \n",
       "4           Cash   24/10/2021          Kanyon  "
      ],
      "text/html": [
       "<div>\n",
       "<style scoped>\n",
       "    .dataframe tbody tr th:only-of-type {\n",
       "        vertical-align: middle;\n",
       "    }\n",
       "\n",
       "    .dataframe tbody tr th {\n",
       "        vertical-align: top;\n",
       "    }\n",
       "\n",
       "    .dataframe thead th {\n",
       "        text-align: right;\n",
       "    }\n",
       "</style>\n",
       "<table border=\"1\" class=\"dataframe\">\n",
       "  <thead>\n",
       "    <tr style=\"text-align: right;\">\n",
       "      <th></th>\n",
       "      <th>invoice_no</th>\n",
       "      <th>customer_id</th>\n",
       "      <th>gender</th>\n",
       "      <th>age</th>\n",
       "      <th>category</th>\n",
       "      <th>quantity</th>\n",
       "      <th>price</th>\n",
       "      <th>payment_method</th>\n",
       "      <th>invoice_date</th>\n",
       "      <th>shopping_mall</th>\n",
       "    </tr>\n",
       "  </thead>\n",
       "  <tbody>\n",
       "    <tr>\n",
       "      <th>0</th>\n",
       "      <td>I138884</td>\n",
       "      <td>C241288</td>\n",
       "      <td>Female</td>\n",
       "      <td>28</td>\n",
       "      <td>Clothing</td>\n",
       "      <td>5</td>\n",
       "      <td>1500.40</td>\n",
       "      <td>Credit Card</td>\n",
       "      <td>5/8/2022</td>\n",
       "      <td>Kanyon</td>\n",
       "    </tr>\n",
       "    <tr>\n",
       "      <th>1</th>\n",
       "      <td>I317333</td>\n",
       "      <td>C111565</td>\n",
       "      <td>Male</td>\n",
       "      <td>21</td>\n",
       "      <td>Shoes</td>\n",
       "      <td>3</td>\n",
       "      <td>1800.51</td>\n",
       "      <td>Debit Card</td>\n",
       "      <td>12/12/2021</td>\n",
       "      <td>Forum Istanbul</td>\n",
       "    </tr>\n",
       "    <tr>\n",
       "      <th>2</th>\n",
       "      <td>I127801</td>\n",
       "      <td>C266599</td>\n",
       "      <td>Male</td>\n",
       "      <td>20</td>\n",
       "      <td>Clothing</td>\n",
       "      <td>1</td>\n",
       "      <td>300.08</td>\n",
       "      <td>Cash</td>\n",
       "      <td>9/11/2021</td>\n",
       "      <td>Metrocity</td>\n",
       "    </tr>\n",
       "    <tr>\n",
       "      <th>3</th>\n",
       "      <td>I173702</td>\n",
       "      <td>C988172</td>\n",
       "      <td>Female</td>\n",
       "      <td>66</td>\n",
       "      <td>Shoes</td>\n",
       "      <td>5</td>\n",
       "      <td>3000.85</td>\n",
       "      <td>Credit Card</td>\n",
       "      <td>16/05/2021</td>\n",
       "      <td>Metropol AVM</td>\n",
       "    </tr>\n",
       "    <tr>\n",
       "      <th>4</th>\n",
       "      <td>I337046</td>\n",
       "      <td>C189076</td>\n",
       "      <td>Female</td>\n",
       "      <td>53</td>\n",
       "      <td>Books</td>\n",
       "      <td>4</td>\n",
       "      <td>60.60</td>\n",
       "      <td>Cash</td>\n",
       "      <td>24/10/2021</td>\n",
       "      <td>Kanyon</td>\n",
       "    </tr>\n",
       "  </tbody>\n",
       "</table>\n",
       "</div>"
      ]
     },
     "execution_count": 6,
     "metadata": {},
     "output_type": "execute_result"
    }
   ],
   "execution_count": 6
  },
  {
   "metadata": {
    "ExecuteTime": {
     "end_time": "2024-12-03T22:25:27.285930Z",
     "start_time": "2024-12-03T22:25:27.250725Z"
    }
   },
   "cell_type": "code",
   "source": "data.describe()",
   "id": "a947fdd2e80b9fa1",
   "outputs": [
    {
     "data": {
      "text/plain": [
       "                age      quantity         price\n",
       "count  99457.000000  99457.000000  99457.000000\n",
       "mean      43.427089      3.003429    689.256321\n",
       "std       14.990054      1.413025    941.184567\n",
       "min       18.000000      1.000000      5.230000\n",
       "25%       30.000000      2.000000     45.450000\n",
       "50%       43.000000      3.000000    203.300000\n",
       "75%       56.000000      4.000000   1200.320000\n",
       "max       69.000000      5.000000   5250.000000"
      ],
      "text/html": [
       "<div>\n",
       "<style scoped>\n",
       "    .dataframe tbody tr th:only-of-type {\n",
       "        vertical-align: middle;\n",
       "    }\n",
       "\n",
       "    .dataframe tbody tr th {\n",
       "        vertical-align: top;\n",
       "    }\n",
       "\n",
       "    .dataframe thead th {\n",
       "        text-align: right;\n",
       "    }\n",
       "</style>\n",
       "<table border=\"1\" class=\"dataframe\">\n",
       "  <thead>\n",
       "    <tr style=\"text-align: right;\">\n",
       "      <th></th>\n",
       "      <th>age</th>\n",
       "      <th>quantity</th>\n",
       "      <th>price</th>\n",
       "    </tr>\n",
       "  </thead>\n",
       "  <tbody>\n",
       "    <tr>\n",
       "      <th>count</th>\n",
       "      <td>99457.000000</td>\n",
       "      <td>99457.000000</td>\n",
       "      <td>99457.000000</td>\n",
       "    </tr>\n",
       "    <tr>\n",
       "      <th>mean</th>\n",
       "      <td>43.427089</td>\n",
       "      <td>3.003429</td>\n",
       "      <td>689.256321</td>\n",
       "    </tr>\n",
       "    <tr>\n",
       "      <th>std</th>\n",
       "      <td>14.990054</td>\n",
       "      <td>1.413025</td>\n",
       "      <td>941.184567</td>\n",
       "    </tr>\n",
       "    <tr>\n",
       "      <th>min</th>\n",
       "      <td>18.000000</td>\n",
       "      <td>1.000000</td>\n",
       "      <td>5.230000</td>\n",
       "    </tr>\n",
       "    <tr>\n",
       "      <th>25%</th>\n",
       "      <td>30.000000</td>\n",
       "      <td>2.000000</td>\n",
       "      <td>45.450000</td>\n",
       "    </tr>\n",
       "    <tr>\n",
       "      <th>50%</th>\n",
       "      <td>43.000000</td>\n",
       "      <td>3.000000</td>\n",
       "      <td>203.300000</td>\n",
       "    </tr>\n",
       "    <tr>\n",
       "      <th>75%</th>\n",
       "      <td>56.000000</td>\n",
       "      <td>4.000000</td>\n",
       "      <td>1200.320000</td>\n",
       "    </tr>\n",
       "    <tr>\n",
       "      <th>max</th>\n",
       "      <td>69.000000</td>\n",
       "      <td>5.000000</td>\n",
       "      <td>5250.000000</td>\n",
       "    </tr>\n",
       "  </tbody>\n",
       "</table>\n",
       "</div>"
      ]
     },
     "execution_count": 7,
     "metadata": {},
     "output_type": "execute_result"
    }
   ],
   "execution_count": 7
  },
  {
   "metadata": {
    "ExecuteTime": {
     "end_time": "2024-12-03T22:25:27.526963Z",
     "start_time": "2024-12-03T22:25:27.477909Z"
    }
   },
   "cell_type": "code",
   "source": "data.info()",
   "id": "9ca396eeabde5aea",
   "outputs": [
    {
     "name": "stdout",
     "output_type": "stream",
     "text": [
      "<class 'pandas.core.frame.DataFrame'>\n",
      "RangeIndex: 99457 entries, 0 to 99456\n",
      "Data columns (total 10 columns):\n",
      " #   Column          Non-Null Count  Dtype  \n",
      "---  ------          --------------  -----  \n",
      " 0   invoice_no      99457 non-null  object \n",
      " 1   customer_id     99457 non-null  object \n",
      " 2   gender          99457 non-null  object \n",
      " 3   age             99457 non-null  int64  \n",
      " 4   category        99457 non-null  object \n",
      " 5   quantity        99457 non-null  int64  \n",
      " 6   price           99457 non-null  float64\n",
      " 7   payment_method  99457 non-null  object \n",
      " 8   invoice_date    99457 non-null  object \n",
      " 9   shopping_mall   99457 non-null  object \n",
      "dtypes: float64(1), int64(2), object(7)\n",
      "memory usage: 7.6+ MB\n"
     ]
    }
   ],
   "execution_count": 8
  },
  {
   "metadata": {},
   "cell_type": "markdown",
   "source": [
    "### Observations on the Dataset\n",
    "\n",
    "A few things strike me about this dataset:\n",
    "\n",
    "1. **Invoice Number and Customer Uniqueness**\n",
    "   Both the `invoice_number` and `customer` fields contain unique values. This means they won't contribute to any meaningful correlations or insights, which is a bit disappointing. I was hoping to use these fields for customer segmentation and analyzing individual behaviors.\n",
    "\n",
    "2. **Opportunities for Clustering**\n",
    "   Despite the limitations of the unique fields, **k-means clustering** is still a viable option. We can segment customers based on attributes such as:\n",
    "   - Age\n",
    "   - Gender\n",
    "   - Amount spent\n",
    "   - Possibly location (e.g., city-wise analysis), as I suspect there may be notable differences in summary statistics across cities.\n",
    "\n",
    "These insights guide the direction of the analysis and inform which columns are worth focusing on for further processing."
   ],
   "id": "3a69c1b463fdc605"
  },
  {
   "metadata": {
    "ExecuteTime": {
     "end_time": "2024-12-03T22:25:28.578709Z",
     "start_time": "2024-12-03T22:25:28.119150Z"
    }
   },
   "cell_type": "code",
   "source": [
    "data['invoice_timestamp'] = pd.to_datetime(data['invoice_date'], format='%d/%m/%Y')\n",
    "\n",
    "# Initialize LabelEncoder\n",
    "gender_encoder = LabelEncoder()\n",
    "category_encoder = LabelEncoder()\n",
    "payment_encoder = LabelEncoder()\n",
    "mall_encoder = LabelEncoder()\n",
    "\n",
    "\n",
    "# Apply LabelEncoder to specific columns\n",
    "data['gender_encoded'] = category_encoder.fit_transform(data['gender'])\n",
    "data['Category_encoded'] = category_encoder.fit_transform(data['category'])\n",
    "data['payment_encoded'] = payment_encoder.fit_transform(data['payment_method'])\n",
    "data['mall_encoded'] = mall_encoder.fit_transform(data['shopping_mall'])\n",
    "\n",
    "data.head()"
   ],
   "id": "79e043ac526c4fb3",
   "outputs": [
    {
     "data": {
      "text/plain": [
       "  invoice_no customer_id  gender  age  category  quantity    price  \\\n",
       "0    I138884     C241288  Female   28  Clothing         5  1500.40   \n",
       "1    I317333     C111565    Male   21     Shoes         3  1800.51   \n",
       "2    I127801     C266599    Male   20  Clothing         1   300.08   \n",
       "3    I173702     C988172  Female   66     Shoes         5  3000.85   \n",
       "4    I337046     C189076  Female   53     Books         4    60.60   \n",
       "\n",
       "  payment_method invoice_date   shopping_mall invoice_timestamp  \\\n",
       "0    Credit Card     5/8/2022          Kanyon        2022-08-05   \n",
       "1     Debit Card   12/12/2021  Forum Istanbul        2021-12-12   \n",
       "2           Cash    9/11/2021       Metrocity        2021-11-09   \n",
       "3    Credit Card   16/05/2021    Metropol AVM        2021-05-16   \n",
       "4           Cash   24/10/2021          Kanyon        2021-10-24   \n",
       "\n",
       "   gender_encoded  Category_encoded  payment_encoded  mall_encoded  \n",
       "0               0                 1                1             4  \n",
       "1               1                 4                2             2  \n",
       "2               1                 1                0             6  \n",
       "3               0                 4                1             7  \n",
       "4               0                 0                0             4  "
      ],
      "text/html": [
       "<div>\n",
       "<style scoped>\n",
       "    .dataframe tbody tr th:only-of-type {\n",
       "        vertical-align: middle;\n",
       "    }\n",
       "\n",
       "    .dataframe tbody tr th {\n",
       "        vertical-align: top;\n",
       "    }\n",
       "\n",
       "    .dataframe thead th {\n",
       "        text-align: right;\n",
       "    }\n",
       "</style>\n",
       "<table border=\"1\" class=\"dataframe\">\n",
       "  <thead>\n",
       "    <tr style=\"text-align: right;\">\n",
       "      <th></th>\n",
       "      <th>invoice_no</th>\n",
       "      <th>customer_id</th>\n",
       "      <th>gender</th>\n",
       "      <th>age</th>\n",
       "      <th>category</th>\n",
       "      <th>quantity</th>\n",
       "      <th>price</th>\n",
       "      <th>payment_method</th>\n",
       "      <th>invoice_date</th>\n",
       "      <th>shopping_mall</th>\n",
       "      <th>invoice_timestamp</th>\n",
       "      <th>gender_encoded</th>\n",
       "      <th>Category_encoded</th>\n",
       "      <th>payment_encoded</th>\n",
       "      <th>mall_encoded</th>\n",
       "    </tr>\n",
       "  </thead>\n",
       "  <tbody>\n",
       "    <tr>\n",
       "      <th>0</th>\n",
       "      <td>I138884</td>\n",
       "      <td>C241288</td>\n",
       "      <td>Female</td>\n",
       "      <td>28</td>\n",
       "      <td>Clothing</td>\n",
       "      <td>5</td>\n",
       "      <td>1500.40</td>\n",
       "      <td>Credit Card</td>\n",
       "      <td>5/8/2022</td>\n",
       "      <td>Kanyon</td>\n",
       "      <td>2022-08-05</td>\n",
       "      <td>0</td>\n",
       "      <td>1</td>\n",
       "      <td>1</td>\n",
       "      <td>4</td>\n",
       "    </tr>\n",
       "    <tr>\n",
       "      <th>1</th>\n",
       "      <td>I317333</td>\n",
       "      <td>C111565</td>\n",
       "      <td>Male</td>\n",
       "      <td>21</td>\n",
       "      <td>Shoes</td>\n",
       "      <td>3</td>\n",
       "      <td>1800.51</td>\n",
       "      <td>Debit Card</td>\n",
       "      <td>12/12/2021</td>\n",
       "      <td>Forum Istanbul</td>\n",
       "      <td>2021-12-12</td>\n",
       "      <td>1</td>\n",
       "      <td>4</td>\n",
       "      <td>2</td>\n",
       "      <td>2</td>\n",
       "    </tr>\n",
       "    <tr>\n",
       "      <th>2</th>\n",
       "      <td>I127801</td>\n",
       "      <td>C266599</td>\n",
       "      <td>Male</td>\n",
       "      <td>20</td>\n",
       "      <td>Clothing</td>\n",
       "      <td>1</td>\n",
       "      <td>300.08</td>\n",
       "      <td>Cash</td>\n",
       "      <td>9/11/2021</td>\n",
       "      <td>Metrocity</td>\n",
       "      <td>2021-11-09</td>\n",
       "      <td>1</td>\n",
       "      <td>1</td>\n",
       "      <td>0</td>\n",
       "      <td>6</td>\n",
       "    </tr>\n",
       "    <tr>\n",
       "      <th>3</th>\n",
       "      <td>I173702</td>\n",
       "      <td>C988172</td>\n",
       "      <td>Female</td>\n",
       "      <td>66</td>\n",
       "      <td>Shoes</td>\n",
       "      <td>5</td>\n",
       "      <td>3000.85</td>\n",
       "      <td>Credit Card</td>\n",
       "      <td>16/05/2021</td>\n",
       "      <td>Metropol AVM</td>\n",
       "      <td>2021-05-16</td>\n",
       "      <td>0</td>\n",
       "      <td>4</td>\n",
       "      <td>1</td>\n",
       "      <td>7</td>\n",
       "    </tr>\n",
       "    <tr>\n",
       "      <th>4</th>\n",
       "      <td>I337046</td>\n",
       "      <td>C189076</td>\n",
       "      <td>Female</td>\n",
       "      <td>53</td>\n",
       "      <td>Books</td>\n",
       "      <td>4</td>\n",
       "      <td>60.60</td>\n",
       "      <td>Cash</td>\n",
       "      <td>24/10/2021</td>\n",
       "      <td>Kanyon</td>\n",
       "      <td>2021-10-24</td>\n",
       "      <td>0</td>\n",
       "      <td>0</td>\n",
       "      <td>0</td>\n",
       "      <td>4</td>\n",
       "    </tr>\n",
       "  </tbody>\n",
       "</table>\n",
       "</div>"
      ]
     },
     "execution_count": 9,
     "metadata": {},
     "output_type": "execute_result"
    }
   ],
   "execution_count": 9
  },
  {
   "metadata": {
    "ExecuteTime": {
     "end_time": "2024-12-03T22:25:28.705658Z",
     "start_time": "2024-12-03T22:25:28.664026Z"
    }
   },
   "cell_type": "code",
   "source": [
    "female_data = data[data['gender'] == 'Female']\n",
    "male_data = data[data['gender'] == 'Male']"
   ],
   "id": "f9e016c3adff01e4",
   "outputs": [],
   "execution_count": 10
  },
  {
   "metadata": {
    "ExecuteTime": {
     "end_time": "2024-12-03T22:25:29.195479Z",
     "start_time": "2024-12-03T22:25:28.862508Z"
    }
   },
   "cell_type": "code",
   "source": [
    "# Combine the two datasets into a list\n",
    "boxplot_data = [male_data['price'], female_data['price'], data['price']]\n",
    "\n",
    "# Create the boxplot\n",
    "plt.boxplot(boxplot_data, tick_labels=['Male', 'Female', 'Both'])\n",
    "\n",
    "# Add labels and title\n",
    "plt.xlabel('Gender')\n",
    "plt.ylabel('Price')\n",
    "plt.title('Boxplot of Prices by Gender')\n",
    "\n",
    "# Show the plot\n",
    "plt.show()"
   ],
   "id": "8635aa5951d0a6f8",
   "outputs": [
    {
     "data": {
      "text/plain": [
       "<Figure size 640x480 with 1 Axes>"
      ],
      "image/png": "[encoded data removed]"
     },
     "metadata": {},
     "output_type": "display_data"
    }
   ],
   "execution_count": 11
  },
  {
   "metadata": {
    "ExecuteTime": {
     "end_time": "2024-12-03T22:25:29.290719Z",
     "start_time": "2024-12-03T22:25:29.260470Z"
    }
   },
   "cell_type": "code",
   "source": [
    "print(male_data['price'].describe())\n",
    "print(female_data['price'].describe())\n",
    "print(data['price'].describe())"
   ],
   "id": "3564f000a4ac5d40",
   "outputs": [
    {
     "name": "stdout",
     "output_type": "stream",
     "text": [
      "count    39975.000000\n",
      "mean       690.920933\n",
      "std        941.777893\n",
      "min          5.230000\n",
      "25%         40.660000\n",
      "50%        203.300000\n",
      "75%       1200.320000\n",
      "max       5250.000000\n",
      "Name: price, dtype: float64\n",
      "count    59482.000000\n",
      "mean       688.137615\n",
      "std        940.791874\n",
      "min          5.230000\n",
      "25%         45.450000\n",
      "50%        203.300000\n",
      "75%       1200.320000\n",
      "max       5250.000000\n",
      "Name: price, dtype: float64\n",
      "count    99457.000000\n",
      "mean       689.256321\n",
      "std        941.184567\n",
      "min          5.230000\n",
      "25%         45.450000\n",
      "50%        203.300000\n",
      "75%       1200.320000\n",
      "max       5250.000000\n",
      "Name: price, dtype: float64\n"
     ]
    }
   ],
   "execution_count": 12
  },
  {
   "metadata": {
    "ExecuteTime": {
     "end_time": "2024-12-03T22:25:29.530801Z",
     "start_time": "2024-12-03T22:25:29.468358Z"
    }
   },
   "cell_type": "code",
   "source": "male_data.describe()",
   "id": "4d63da2e969d0c51",
   "outputs": [
    {
     "data": {
      "text/plain": [
       "                age      quantity         price  \\\n",
       "count  39975.000000  39975.000000  39975.000000   \n",
       "mean      43.387767      3.003202    690.920933   \n",
       "min       18.000000      1.000000      5.230000   \n",
       "25%       30.000000      2.000000     40.660000   \n",
       "50%       43.000000      3.000000    203.300000   \n",
       "75%       56.000000      4.000000   1200.320000   \n",
       "max       69.000000      5.000000   5250.000000   \n",
       "std       15.026664      1.415129    941.777893   \n",
       "\n",
       "                   invoice_timestamp  gender_encoded  Category_encoded  \\\n",
       "count                          39975         39975.0      39975.000000   \n",
       "mean   2022-02-04 00:35:18.123827200             1.0          2.753896   \n",
       "min              2021-01-01 00:00:00             1.0          0.000000   \n",
       "25%              2021-07-20 00:00:00             1.0          1.000000   \n",
       "50%              2022-02-05 00:00:00             1.0          2.000000   \n",
       "75%              2022-08-21 00:00:00             1.0          4.000000   \n",
       "max              2023-03-08 00:00:00             1.0          7.000000   \n",
       "std                              NaN             0.0          2.073008   \n",
       "\n",
       "       payment_encoded  mall_encoded  \n",
       "count     39975.000000  39975.000000  \n",
       "mean          0.754321      4.719124  \n",
       "min           0.000000      0.000000  \n",
       "25%           0.000000      4.000000  \n",
       "50%           1.000000      5.000000  \n",
       "75%           1.000000      6.000000  \n",
       "max           2.000000      9.000000  \n",
       "std           0.769051      2.203466  "
      ],
      "text/html": [
       "<div>\n",
       "<style scoped>\n",
       "    .dataframe tbody tr th:only-of-type {\n",
       "        vertical-align: middle;\n",
       "    }\n",
       "\n",
       "    .dataframe tbody tr th {\n",
       "        vertical-align: top;\n",
       "    }\n",
       "\n",
       "    .dataframe thead th {\n",
       "        text-align: right;\n",
       "    }\n",
       "</style>\n",
       "<table border=\"1\" class=\"dataframe\">\n",
       "  <thead>\n",
       "    <tr style=\"text-align: right;\">\n",
       "      <th></th>\n",
       "      <th>age</th>\n",
       "      <th>quantity</th>\n",
       "      <th>price</th>\n",
       "      <th>invoice_timestamp</th>\n",
       "      <th>gender_encoded</th>\n",
       "      <th>Category_encoded</th>\n",
       "      <th>payment_encoded</th>\n",
       "      <th>mall_encoded</th>\n",
       "    </tr>\n",
       "  </thead>\n",
       "  <tbody>\n",
       "    <tr>\n",
       "      <th>count</th>\n",
       "      <td>39975.000000</td>\n",
       "      <td>39975.000000</td>\n",
       "      <td>39975.000000</td>\n",
       "      <td>39975</td>\n",
       "      <td>39975.0</td>\n",
       "      <td>39975.000000</td>\n",
       "      <td>39975.000000</td>\n",
       "      <td>39975.000000</td>\n",
       "    </tr>\n",
       "    <tr>\n",
       "      <th>mean</th>\n",
       "      <td>43.387767</td>\n",
       "      <td>3.003202</td>\n",
       "      <td>690.920933</td>\n",
       "      <td>2022-02-04 00:35:18.123827200</td>\n",
       "      <td>1.0</td>\n",
       "      <td>2.753896</td>\n",
       "      <td>0.754321</td>\n",
       "      <td>4.719124</td>\n",
       "    </tr>\n",
       "    <tr>\n",
       "      <th>min</th>\n",
       "      <td>18.000000</td>\n",
       "      <td>1.000000</td>\n",
       "      <td>5.230000</td>\n",
       "      <td>2021-01-01 00:00:00</td>\n",
       "      <td>1.0</td>\n",
       "      <td>0.000000</td>\n",
       "      <td>0.000000</td>\n",
       "      <td>0.000000</td>\n",
       "    </tr>\n",
       "    <tr>\n",
       "      <th>25%</th>\n",
       "      <td>30.000000</td>\n",
       "      <td>2.000000</td>\n",
       "      <td>40.660000</td>\n",
       "      <td>2021-07-20 00:00:00</td>\n",
       "      <td>1.0</td>\n",
       "      <td>1.000000</td>\n",
       "      <td>0.000000</td>\n",
       "      <td>4.000000</td>\n",
       "    </tr>\n",
       "    <tr>\n",
       "      <th>50%</th>\n",
       "      <td>43.000000</td>\n",
       "      <td>3.000000</td>\n",
       "      <td>203.300000</td>\n",
       "      <td>2022-02-05 00:00:00</td>\n",
       "      <td>1.0</td>\n",
       "      <td>2.000000</td>\n",
       "      <td>1.000000</td>\n",
       "      <td>5.000000</td>\n",
       "    </tr>\n",
       "    <tr>\n",
       "      <th>75%</th>\n",
       "      <td>56.000000</td>\n",
       "      <td>4.000000</td>\n",
       "      <td>1200.320000</td>\n",
       "      <td>2022-08-21 00:00:00</td>\n",
       "      <td>1.0</td>\n",
       "      <td>4.000000</td>\n",
       "      <td>1.000000</td>\n",
       "      <td>6.000000</td>\n",
       "    </tr>\n",
       "    <tr>\n",
       "      <th>max</th>\n",
       "      <td>69.000000</td>\n",
       "      <td>5.000000</td>\n",
       "      <td>5250.000000</td>\n",
       "      <td>2023-03-08 00:00:00</td>\n",
       "      <td>1.0</td>\n",
       "      <td>7.000000</td>\n",
       "      <td>2.000000</td>\n",
       "      <td>9.000000</td>\n",
       "    </tr>\n",
       "    <tr>\n",
       "      <th>std</th>\n",
       "      <td>15.026664</td>\n",
       "      <td>1.415129</td>\n",
       "      <td>941.777893</td>\n",
       "      <td>NaN</td>\n",
       "      <td>0.0</td>\n",
       "      <td>2.073008</td>\n",
       "      <td>0.769051</td>\n",
       "      <td>2.203466</td>\n",
       "    </tr>\n",
       "  </tbody>\n",
       "</table>\n",
       "</div>"
      ]
     },
     "execution_count": 13,
     "metadata": {},
     "output_type": "execute_result"
    }
   ],
   "execution_count": 13
  },
  {
   "metadata": {},
   "cell_type": "markdown",
   "source": [
    "### Observation\n",
    "\n",
    "All three datasets (`male_data['price']`, `female_data['price']`, and `data['price']`) appear to have very similar distributions. This suggests that analyzing price by gender is unlikely to yield significant or meaningful insights.\n"
   ],
   "id": "de71d3ec3ad4d23"
  },
  {
   "metadata": {
    "ExecuteTime": {
     "end_time": "2024-12-03T22:25:29.845920Z",
     "start_time": "2024-12-03T22:25:29.833372Z"
    }
   },
   "cell_type": "code",
   "source": "unique_categories = pd.unique(data['category'])",
   "id": "e53e514b16777699",
   "outputs": [],
   "execution_count": 14
  },
  {
   "metadata": {
    "ExecuteTime": {
     "end_time": "2024-12-03T22:30:48.819454Z",
     "start_time": "2024-12-03T22:30:46.998413Z"
    }
   },
   "cell_type": "code",
   "source": [
    "# Determine the number of unique categories\n",
    "num_categories = len(unique_categories)\n",
    "\n",
    "# Create a figure and axes for subplots\n",
    "fig, axes = plt.subplots(1, num_categories, figsize=(5 * num_categories, 5), sharey=True)\n",
    "\n",
    "# Iterate through each unique category and its corresponding axis\n",
    "for i, category in enumerate(unique_categories):\n",
    "    # Create the boxplot for the specific category\n",
    "    axes[i].boxplot(data[data['category'] == category]['price'])\n",
    "    axes[i].set_title(f'Category: {category}')\n",
    "    axes[i].set_xlabel('Category')\n",
    "    if i == 0:  # Add y-axis label to the first subplot\n",
    "        axes[i].set_ylabel('Price')\n",
    "\n",
    "# Adjust layout to prevent overlap\n",
    "plt.tight_layout()\n",
    "\n",
    "# Show the combined plot\n",
    "plt.show()"
   ],
   "id": "7c536ad14a28f354",
   "outputs": [
    {
     "data": {
      "text/plain": [
       "<Figure size 4000x500 with 8 Axes>"
      ],
      "image/png": "[encoded data removed]"
     },
     "metadata": {},
     "output_type": "display_data"
    }
   ],
   "execution_count": 22
  },
  {
   "metadata": {
    "ExecuteTime": {
     "end_time": "2024-12-03T22:32:10.524498Z",
     "start_time": "2024-12-03T22:32:10.204444Z"
    }
   },
   "cell_type": "code",
   "source": [
    "# Calculate the mean price for each category\n",
    "category_means = data.groupby('category')['price'].mean()\n",
    "\n",
    "# Create the bar chart\n",
    "plt.figure(figsize=(10, 6))\n",
    "plt.bar(category_means.index, category_means.values)\n",
    "\n",
    "# Add titles and labels\n",
    "plt.title('Mean Price by Category')\n",
    "plt.xlabel('Category')\n",
    "plt.ylabel('Mean Price')\n",
    "\n",
    "# Show the plot\n",
    "plt.show()"
   ],
   "id": "56befa93a038a2f0",
   "outputs": [
    {
     "data": {
      "text/plain": [
       "<Figure size 1000x600 with 1 Axes>"
      ],
      "image/png": "[encoded data removed]"
     },
     "metadata": {},
     "output_type": "display_data"
    }
   ],
   "execution_count": 24
  },
  {
   "metadata": {},
   "cell_type": "markdown",
   "source": [
    "## Findings\n",
    "1. **Shoes and Clothing:**\n",
    "   - The average price for shoes and clothing is unexpectedly high.\n",
    "   - This could indicate a strong preference among Turkish consumers for designer or high-quality brands.\n",
    "\n",
    "2. **Technology:**\n",
    "   - Technology products surpass the mean average price bracket, a trend that aligns with global norms.\n",
    "   - The higher price point is expected, given the premium nature of electronic goods.\n",
    "\n",
    "3. **Cultural and Economic Factors:**\n",
    "   - A penchant for branded goods may reflect cultural preferences or economic status in urban areas.\n",
    "   - Technology's dominance in the price bracket highlights its essential and premium nature."
   ],
   "id": "5a58b122230e309f"
  },
  {
   "metadata": {
    "ExecuteTime": {
     "end_time": "2024-12-03T22:36:19.633315Z",
     "start_time": "2024-12-03T22:36:19.423671Z"
    }
   },
   "cell_type": "code",
   "source": [
    "# Calculate the mean price for each category\n",
    "category_means = data.groupby('category')['price'].sum()\n",
    "# Create the bar chart\n",
    "plt.figure(figsize=(10, 6))\n",
    "plt.bar(category_means.index, category_means.values)\n",
    "\n",
    "# Add titles and labels\n",
    "plt.title('Sum by Category')\n",
    "plt.xlabel('Category')\n",
    "plt.ylabel('Sum')\n",
    "\n",
    "# Show the plot\n",
    "plt.show()"
   ],
   "id": "66660ca91f274e2b",
   "outputs": [
    {
     "data": {
      "text/plain": [
       "<Figure size 1000x600 with 1 Axes>"
      ],
      "image/png": "[encoded data removed]"
     },
     "metadata": {},
     "output_type": "display_data"
    }
   ],
   "execution_count": 26
  },
  {
   "metadata": {},
   "cell_type": "markdown",
   "source": [
    "## Findings\n",
    "1. **Clothing Dominates:**\n",
    "   - Clothing is the most commonly bought item, far surpassing all other categories.\n",
    "   - Shoes and technology also rank highly but still fall short of clothing's dominance.\n",
    "\n",
    "2. **Low Popularity Categories:**\n",
    "   - Souvenirs, books, and food represent a small fraction of purchases compared to clothing.\n",
    "   - Cosmetics and toys are similarly low in popularity, indicating niche or specialized markets."
   ],
   "id": "2d58895142e1ca28"
  },
  {
   "metadata": {
    "ExecuteTime": {
     "end_time": "2024-12-03T22:49:13.955226Z",
     "start_time": "2024-12-03T22:49:13.661921Z"
    }
   },
   "cell_type": "code",
   "source": [
    "# Calculate the mean price for each category\n",
    "category_means = data.groupby('shopping_mall')['price'].mean()\n",
    "\n",
    "# Create the bar chart\n",
    "plt.figure(figsize=(10, 6))\n",
    "plt.bar(category_means.index, category_means.values)\n",
    "\n",
    "# Add titles and labels\n",
    "plt.title('Mean Price by Mall')\n",
    "plt.xlabel('Shopping Mall')\n",
    "plt.ylabel('Mean Currency Spent')\n",
    "\n",
    "# Rotate x-axis labels\n",
    "plt.xticks(rotation=45)\n",
    "\n",
    "# Show the plot\n",
    "plt.show()"
   ],
   "id": "bbd57bed09edac2b",
   "outputs": [
    {
     "data": {
      "text/plain": [
       "<Figure size 1000x600 with 1 Axes>"
      ],
      "image/png": "[encoded data removed]"
     },
     "metadata": {},
     "output_type": "display_data"
    }
   ],
   "execution_count": 33
  },
  {
   "metadata": {
    "ExecuteTime": {
     "end_time": "2024-12-03T22:49:30.323661Z",
     "start_time": "2024-12-03T22:49:30.067361Z"
    }
   },
   "cell_type": "code",
   "source": [
    "# Calculate the mean price for each category\n",
    "category_means = data.groupby('shopping_mall')['price'].sum()\n",
    "\n",
    "# Create the bar chart\n",
    "plt.figure(figsize=(10, 6))\n",
    "plt.bar(category_means.index, category_means.values)\n",
    "\n",
    "# Add titles and labels\n",
    "plt.title('Total spent per mall')\n",
    "plt.xlabel('Shopping Mall')\n",
    "plt.ylabel('Total spent')\n",
    "\n",
    "# Rotate x-axis labels\n",
    "plt.xticks(rotation=45)\n",
    "\n",
    "# Show the plot\n",
    "plt.show()## Findings"
   ],
   "id": "7fd68e55fbfd3215",
   "outputs": [
    {
     "data": {
      "text/plain": [
       "<Figure size 1000x600 with 1 Axes>"
      ],
      "image/png": "[encoded data removed]"
     },
     "metadata": {},
     "output_type": "display_data"
    }
   ],
   "execution_count": 34
  },
  {
   "metadata": {},
   "cell_type": "markdown",
   "source": [
    "## Findings\n",
    "1. **Mall of Istanbul:** \n",
    "   - The mall's name directly references the city, increasing its association with Istanbul's cultural identity.\n",
    "   - Its wide variety of stores and entertainment options make it a frequent destination for both locals and tourists.\n",
    "\n",
    "2. **Kanyon:**\n",
    "   - Located in the business district of Istanbul, it serves as a hub for professionals and affluent shoppers.\n",
    "   - Its unique architectural design and luxury offerings enhance its appeal to a niche audience.\n",
    "\n",
    "3. **Geographical Insights:**\n",
    "   - Both malls are situated in key urban locations, emphasizing their accessibility and strategic placement."
   ],
   "id": "323e1aae4a9be7d8"
  },
  {
   "metadata": {
    "ExecuteTime": {
     "end_time": "2024-12-03T23:04:24.229924Z",
     "start_time": "2024-12-03T23:04:24.207100Z"
    }
   },
   "cell_type": "code",
   "source": "data.head()",
   "id": "2d5b54da24ac5387",
   "outputs": [
    {
     "data": {
      "text/plain": [
       "  invoice_no customer_id  gender  age  category  quantity    price  \\\n",
       "0    I138884     C241288  Female   28  Clothing         5  1500.40   \n",
       "1    I317333     C111565    Male   21     Shoes         3  1800.51   \n",
       "2    I127801     C266599    Male   20  Clothing         1   300.08   \n",
       "3    I173702     C988172  Female   66     Shoes         5  3000.85   \n",
       "4    I337046     C189076  Female   53     Books         4    60.60   \n",
       "\n",
       "  payment_method invoice_date   shopping_mall invoice_timestamp  \\\n",
       "0    Credit Card     5/8/2022          Kanyon        2022-08-05   \n",
       "1     Debit Card   12/12/2021  Forum Istanbul        2021-12-12   \n",
       "2           Cash    9/11/2021       Metrocity        2021-11-09   \n",
       "3    Credit Card   16/05/2021    Metropol AVM        2021-05-16   \n",
       "4           Cash   24/10/2021          Kanyon        2021-10-24   \n",
       "\n",
       "   gender_encoded  Category_encoded  payment_encoded  mall_encoded  \n",
       "0               0                 1                1             4  \n",
       "1               1                 4                2             2  \n",
       "2               1                 1                0             6  \n",
       "3               0                 4                1             7  \n",
       "4               0                 0                0             4  "
      ],
      "text/html": [
       "<div>\n",
       "<style scoped>\n",
       "    .dataframe tbody tr th:only-of-type {\n",
       "        vertical-align: middle;\n",
       "    }\n",
       "\n",
       "    .dataframe tbody tr th {\n",
       "        vertical-align: top;\n",
       "    }\n",
       "\n",
       "    .dataframe thead th {\n",
       "        text-align: right;\n",
       "    }\n",
       "</style>\n",
       "<table border=\"1\" class=\"dataframe\">\n",
       "  <thead>\n",
       "    <tr style=\"text-align: right;\">\n",
       "      <th></th>\n",
       "      <th>invoice_no</th>\n",
       "      <th>customer_id</th>\n",
       "      <th>gender</th>\n",
       "      <th>age</th>\n",
       "      <th>category</th>\n",
       "      <th>quantity</th>\n",
       "      <th>price</th>\n",
       "      <th>payment_method</th>\n",
       "      <th>invoice_date</th>\n",
       "      <th>shopping_mall</th>\n",
       "      <th>invoice_timestamp</th>\n",
       "      <th>gender_encoded</th>\n",
       "      <th>Category_encoded</th>\n",
       "      <th>payment_encoded</th>\n",
       "      <th>mall_encoded</th>\n",
       "    </tr>\n",
       "  </thead>\n",
       "  <tbody>\n",
       "    <tr>\n",
       "      <th>0</th>\n",
       "      <td>I138884</td>\n",
       "      <td>C241288</td>\n",
       "      <td>Female</td>\n",
       "      <td>28</td>\n",
       "      <td>Clothing</td>\n",
       "      <td>5</td>\n",
       "      <td>1500.40</td>\n",
       "      <td>Credit Card</td>\n",
       "      <td>5/8/2022</td>\n",
       "      <td>Kanyon</td>\n",
       "      <td>2022-08-05</td>\n",
       "      <td>0</td>\n",
       "      <td>1</td>\n",
       "      <td>1</td>\n",
       "      <td>4</td>\n",
       "    </tr>\n",
       "    <tr>\n",
       "      <th>1</th>\n",
       "      <td>I317333</td>\n",
       "      <td>C111565</td>\n",
       "      <td>Male</td>\n",
       "      <td>21</td>\n",
       "      <td>Shoes</td>\n",
       "      <td>3</td>\n",
       "      <td>1800.51</td>\n",
       "      <td>Debit Card</td>\n",
       "      <td>12/12/2021</td>\n",
       "      <td>Forum Istanbul</td>\n",
       "      <td>2021-12-12</td>\n",
       "      <td>1</td>\n",
       "      <td>4</td>\n",
       "      <td>2</td>\n",
       "      <td>2</td>\n",
       "    </tr>\n",
       "    <tr>\n",
       "      <th>2</th>\n",
       "      <td>I127801</td>\n",
       "      <td>C266599</td>\n",
       "      <td>Male</td>\n",
       "      <td>20</td>\n",
       "      <td>Clothing</td>\n",
       "      <td>1</td>\n",
       "      <td>300.08</td>\n",
       "      <td>Cash</td>\n",
       "      <td>9/11/2021</td>\n",
       "      <td>Metrocity</td>\n",
       "      <td>2021-11-09</td>\n",
       "      <td>1</td>\n",
       "      <td>1</td>\n",
       "      <td>0</td>\n",
       "      <td>6</td>\n",
       "    </tr>\n",
       "    <tr>\n",
       "      <th>3</th>\n",
       "      <td>I173702</td>\n",
       "      <td>C988172</td>\n",
       "      <td>Female</td>\n",
       "      <td>66</td>\n",
       "      <td>Shoes</td>\n",
       "      <td>5</td>\n",
       "      <td>3000.85</td>\n",
       "      <td>Credit Card</td>\n",
       "      <td>16/05/2021</td>\n",
       "      <td>Metropol AVM</td>\n",
       "      <td>2021-05-16</td>\n",
       "      <td>0</td>\n",
       "      <td>4</td>\n",
       "      <td>1</td>\n",
       "      <td>7</td>\n",
       "    </tr>\n",
       "    <tr>\n",
       "      <th>4</th>\n",
       "      <td>I337046</td>\n",
       "      <td>C189076</td>\n",
       "      <td>Female</td>\n",
       "      <td>53</td>\n",
       "      <td>Books</td>\n",
       "      <td>4</td>\n",
       "      <td>60.60</td>\n",
       "      <td>Cash</td>\n",
       "      <td>24/10/2021</td>\n",
       "      <td>Kanyon</td>\n",
       "      <td>2021-10-24</td>\n",
       "      <td>0</td>\n",
       "      <td>0</td>\n",
       "      <td>0</td>\n",
       "      <td>4</td>\n",
       "    </tr>\n",
       "  </tbody>\n",
       "</table>\n",
       "</div>"
      ]
     },
     "execution_count": 36,
     "metadata": {},
     "output_type": "execute_result"
    }
   ],
   "execution_count": 36
  },
  {
   "metadata": {},
   "cell_type": "markdown",
   "source": [
    "### **Key Questions to Explore**\n",
    "\n",
    "1. **Payment Methods:**\n",
    "   - Does the payment method affect the price of items or the category of purchases?\n",
    "\n",
    "2. **Gender and Categories:**\n",
    "   - What categories are different genders more likely to buy?\n",
    "\n",
    "3. **Gender Spending Patterns:**\n",
    "   - Are there any differences between male and female spending patterns?\n",
    "   - Which gender is more likely to use debit card/credit card?\n",
    "\n",
    "4. **Spending Prediction:**\n",
    "   - Can we predict how much a customer spent based on:\n",
    "     - Category\n",
    "     - Payment method\n",
    "     - Gender\n",
    "     - Age\n",
    "     - Shopping mall?\n",
    "\n",
    "5. **Age Distribution:**\n",
    "   - Does age play a role in spending distribution and shopping location preferences?\n",
    "\n",
    "6. **Spending by Age:**\n",
    "   - What age groups are more likely to spend?\n",
    "\n",
    "7. **Seasonal Trends:**\n",
    "   - Does the season affect age distribution in spending?"
   ],
   "id": "86777df9d7922b7b"
  },
  {
   "metadata": {
    "ExecuteTime": {
     "end_time": "2024-12-03T23:05:10.795703Z",
     "start_time": "2024-12-03T23:05:10.786282Z"
    }
   },
   "cell_type": "code",
   "source": "plt.show()",
   "id": "4cd704e8777bb615",
   "outputs": [],
   "execution_count": 39
  },
  {
   "metadata": {
    "ExecuteTime": {
     "end_time": "2024-12-03T23:18:33.488725Z",
     "start_time": "2024-12-03T23:18:33.251930Z"
    }
   },
   "cell_type": "code",
   "source": [
    "plt.plot(data.groupby('invoice_date')['price'].mean().cumsum().values)\n",
    "\n",
    "\n",
    "plt.show()"
   ],
   "id": "3a446833cce8527b",
   "outputs": [
    {
     "data": {
      "text/plain": [
       "<Figure size 640x480 with 1 Axes>"
      ],
      "image/png": "[encoded data removed]"
     },
     "metadata": {},
     "output_type": "display_data"
    }
   ],
   "execution_count": 53
  },
  {
   "metadata": {},
   "cell_type": "code",
   "outputs": [],
   "execution_count": null,
   "source": "",
   "id": "59779eb1dc4c9b5d"
  }
 ],
 "metadata": {
  "kernelspec": {
   "display_name": "Python 3",
   "language": "python",
   "name": "python3"
  },
  "language_info": {
   "codemirror_mode": {
    "name": "ipython",
    "version": 2
   },
   "file_extension": ".py",
   "mimetype": "text/x-python",
   "name": "python",
   "nbconvert_exporter": "python",
   "pygments_lexer": "ipython2",
   "version": "2.7.6"
  }
 },
 "nbformat": 4,
 "nbformat_minor": 5
}
